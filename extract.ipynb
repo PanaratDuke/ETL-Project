{
 "cells": [
  {
   "cell_type": "code",
   "execution_count": 2,
   "metadata": {},
   "outputs": [],
   "source": [
    "import pandas as pd\n",
    "from sqlalchemy import create_engine"
   ]
  },
  {
   "cell_type": "markdown",
   "metadata": {},
   "source": [
    "# Store CSV into DataFrame"
   ]
  },
  {
   "cell_type": "code",
   "execution_count": 9,
   "metadata": {},
   "outputs": [
    {
     "data": {
      "text/html": [
       "<div>\n",
       "<style scoped>\n",
       "    .dataframe tbody tr th:only-of-type {\n",
       "        vertical-align: middle;\n",
       "    }\n",
       "\n",
       "    .dataframe tbody tr th {\n",
       "        vertical-align: top;\n",
       "    }\n",
       "\n",
       "    .dataframe thead th {\n",
       "        text-align: right;\n",
       "    }\n",
       "</style>\n",
       "<table border=\"1\" class=\"dataframe\">\n",
       "  <thead>\n",
       "    <tr style=\"text-align: right;\">\n",
       "      <th></th>\n",
       "      <th>AFRICAN,,,,,,,,,,,,,,,,,,,</th>\n",
       "    </tr>\n",
       "  </thead>\n",
       "  <tbody>\n",
       "    <tr>\n",
       "      <th>0</th>\n",
       "      <td>Algeria,2,1,?,?,?,?,?,?,0,0,1,0,0,0,0,0,0,0,0</td>\n",
       "    </tr>\n",
       "    <tr>\n",
       "      <th>1</th>\n",
       "      <td>Angola,\"9,510\",\"9,473\",\"14,434\",\"38,598\",\"12,4...</td>\n",
       "    </tr>\n",
       "    <tr>\n",
       "      <th>2</th>\n",
       "      <td>Benin,?,468,707,560,944,322,\"1,226\",\"1,290\",91...</td>\n",
       "    </tr>\n",
       "    <tr>\n",
       "      <th>3</th>\n",
       "      <td>Botswana,?,29,23,18,19,11,40,6,12,6,8,8,3,7,22...</td>\n",
       "    </tr>\n",
       "    <tr>\n",
       "      <th>4</th>\n",
       "      <td>Burkina Faso,?,\"4,233\",\"4,032\",\"4,860\",\"4,205\"...</td>\n",
       "    </tr>\n",
       "    <tr>\n",
       "      <th>...</th>\n",
       "      <td>...</td>\n",
       "    </tr>\n",
       "    <tr>\n",
       "      <th>121</th>\n",
       "      <td>1 In May 2013, South Sudan was reassigned to t...</td>\n",
       "    </tr>\n",
       "    <tr>\n",
       "      <th>122</th>\n",
       "      <td>2 Certified malaria free countries are include...</td>\n",
       "    </tr>\n",
       "    <tr>\n",
       "      <th>123</th>\n",
       "      <td>3 There is no local transmission.,,,,,,,,,,,,,...</td>\n",
       "    </tr>\n",
       "    <tr>\n",
       "      <th>124</th>\n",
       "      <td>4 In Malaysia, there is no local transmission ...</td>\n",
       "    </tr>\n",
       "    <tr>\n",
       "      <th>125</th>\n",
       "      <td>Note: Deaths reported before 2000 can be proba...</td>\n",
       "    </tr>\n",
       "  </tbody>\n",
       "</table>\n",
       "<p>126 rows × 1 columns</p>\n",
       "</div>"
      ],
      "text/plain": [
       "                            AFRICAN,,,,,,,,,,,,,,,,,,,\n",
       "0        Algeria,2,1,?,?,?,?,?,?,0,0,1,0,0,0,0,0,0,0,0\n",
       "1    Angola,\"9,510\",\"9,473\",\"14,434\",\"38,598\",\"12,4...\n",
       "2    Benin,?,468,707,560,944,322,\"1,226\",\"1,290\",91...\n",
       "3    Botswana,?,29,23,18,19,11,40,6,12,6,8,8,3,7,22...\n",
       "4    Burkina Faso,?,\"4,233\",\"4,032\",\"4,860\",\"4,205\"...\n",
       "..                                                 ...\n",
       "121  1 In May 2013, South Sudan was reassigned to t...\n",
       "122  2 Certified malaria free countries are include...\n",
       "123  3 There is no local transmission.,,,,,,,,,,,,,...\n",
       "124  4 In Malaysia, there is no local transmission ...\n",
       "125  Note: Deaths reported before 2000 can be proba...\n",
       "\n",
       "[126 rows x 1 columns]"
      ]
     },
     "execution_count": 9,
     "metadata": {},
     "output_type": "execute_result"
    }
   ],
   "source": [
    "csv_file = \"Resources/Malaria_deaths_report.csv\"\n",
    "malaria_df = pd.read_csv(csv_file, skiprows=3)\n",
    "malaria_df"
   ]
  },
  {
   "cell_type": "code",
   "execution_count": null,
   "metadata": {},
   "outputs": [],
   "source": []
  }
 ],
 "metadata": {
  "kernelspec": {
   "display_name": "Python 3",
   "language": "python",
   "name": "python3"
  },
  "language_info": {
   "codemirror_mode": {
    "name": "ipython",
    "version": 3
   },
   "file_extension": ".py",
   "mimetype": "text/x-python",
   "name": "python",
   "nbconvert_exporter": "python",
   "pygments_lexer": "ipython3",
   "version": "3.7.6"
  }
 },
 "nbformat": 4,
 "nbformat_minor": 4
}
